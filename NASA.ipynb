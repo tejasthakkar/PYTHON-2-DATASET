{
 "cells": [
  {
   "cell_type": "code",
   "execution_count": 19,
   "metadata": {},
   "outputs": [
    {
     "name": "stdout",
     "output_type": "stream",
     "text": [
      "{'date': '2023-06-13', 'explanation': \"Jupiter's moons circle Jupiter. The featured video depicts Europa and Io, two of Jupiter's largest moons, crossing in front of the grand planet's Great Red Spot, the largest known storm system in our Solar System. The video was composed from images taken by the robotic Cassini spacecraft as it passed Jupiter in 2000, on its way to Saturn. The two moons visible are volcanic Io, in the distance, and icy Europa.  In the time-lapse video, Europa appears to overtake Io, which is odd because Io is closer to Jupiter and moves faster. The explanation is that the motion of the fast Cassini spacecraft changes the camera location significantly during imaging.  Jupiter is currently being visited by NASA's robotic Juno spacecraft, while ESA's Jupiter Icy Moons Explorer (JUICE), launched in April, is enroute.\", 'media_type': 'video', 'service_version': 'v1', 'title': 'Moons Across Jupiter', 'url': 'https://www.youtube.com/embed/YEXuGgRCyS0?rel=0'}\n"
     ]
    }
   ],
   "source": [
    "import requests\n",
    "import pandas as pd\n",
    "url=\"https://api.nasa.gov/planetary/apod\"\n",
    "responses=requests.get(url,params={\"api_key\":\"FE73IN91CxbLlXHQGlEeigc25k0ViSkRjaZz0hQg\",'date':'2023-06-13'})\n",
    "data=responses.json()\n",
    "print(data)"
   ]
  },
  {
   "cell_type": "code",
   "execution_count": 34,
   "metadata": {},
   "outputs": [
    {
     "name": "stdout",
     "output_type": "stream",
     "text": [
      "[{'copyright': '\\nGed Kivlehan\\n', 'date': '2021-03-23', 'explanation': 'Why are these large stones here? One the more famous stone circles is the Duddo Five Stones of Northumberland, England.  Set in the open near the top of a modest incline, a short hike across empty fields will bring you to unusual human -sized stones that are unlike anything surrounding them. The grooved, pitted, and deeply weathered surfaces of the soft sandstones are consistent with being placed about 4000 years ago -- but placed for reasons now unknown.  The featured image -- a composite of two consecutive images taken from the same location -- was captured last October under a starry sky when the Earth was passing near Mars, making the red planet unusually large and bright.  Mars remains visible at sunset, although increasingly close to the horizon over the next few months.   APOD via Instagram in: English, Indonesian, Persian, and Portuguese', 'hdurl': 'https://apod.nasa.gov/apod/image/2103/MarsDuddo_Kivlehan_2250.jpg', 'media_type': 'image', 'service_version': 'v1', 'title': 'Mars over Duddo Stone Circle', 'url': 'https://apod.nasa.gov/apod/image/2103/MarsDuddo_Kivlehan_960.jpg'}, {'date': '2003-07-26', 'explanation': \"This might resemble a fried egg you've had for breakfast, but it's actually much larger. In fact, ringed by blue-tinted star forming regions and faintly visible spiral arms, the yolk-yellow center of this face-on spiral galaxy, NGC 7742, is about 3,000 light-years across. About 72 million light-years away in the constellation Pegasus, NGC 7742 is known to be a Seyfert galaxy - a type of active spiral galaxy with a center or nucleus which is very bright at visible wavelengths. Across the spectrum, the tremendous brightness of Seyferts can change over periods of just days to months and galaxies like NGC 7742 are suspected of harboring massive black holes at their cores. This beautiful color picture is courtesy of the Hubble Space Telescope Heritage Project.\", 'hdurl': 'https://apod.nasa.gov/apod/image/0307/ngc7742_hst_big.jpg', 'media_type': 'image', 'service_version': 'v1', 'title': 'Spiral Galaxy NGC 7742', 'url': 'https://apod.nasa.gov/apod/image/0307/ngc7742_hst.jpg'}, {'copyright': '\\nBob Nanz\\n(San Diego Astronomy Association)\\n', 'date': '2007-12-31', 'explanation': \"Two spectacular comets graced Earth's skies during 2007.  Both comets became bright enough to be seen by the unaided eye of the casual sky enthusiast.  Early in 2007, Comet McNaught grew brighter than any comet in 40 years, displaying a beautiful dust tail that flowed across the sky.  Comet McNaught (c/2006 P1) became known as the Great Comet of 2007, sported unusual striations in its expansive dust tail, and showed unexpectedly complex chemistry in its ion tail.   Toward the year's end, normally docile and faint Comet Holmes brightened suddenly and unexpectedly to naked eye visibility.  Remarkably, Comet 17P/Holmes stayed bright for weeks even though it lies beyond the orbit of Mars.  No distant comet in recent history has remained so bright for so long.  In this view, a white Comet Holmes was photographed in early December posing with the Heart and Soul Nebulas.   APOD presents: Astronomy Pictures of the Year for 2007\", 'hdurl': 'https://apod.nasa.gov/apod/image/0712/holmespan_nanz_big.jpg', 'media_type': 'image', 'service_version': 'v1', 'title': 'A Year of Spectacular Comets', 'url': 'https://apod.nasa.gov/apod/image/0712/holmespan_nanz.jpg'}, {'date': '1999-10-05', 'explanation': \"Tomorrow's picture: Polaris  < Archive | Index | Search | Calendar | Glossary | Education | About APOD >  Authors & editors: Robert Nemiroff (MTU) & Jerry Bonnell (USRA) NASA Technical Rep.: Jay Norris. Specific rights apply. A service of: LHEA at NASA/ GSFC & Michigan Tech. U.\", 'hdurl': 'https://apod.nasa.gov/apod/image/9910/neptuneclouds_vg2_big.jpg', 'media_type': 'image', 'service_version': 'v1', 'title': 'Two Hours Before Neptune', 'url': 'https://apod.nasa.gov/apod/image/9910/neptuneclouds_vg2.jpg'}, {'copyright': '\\nHK (The League of Lost Causes)\\n', 'date': '2017-09-24', 'explanation': \"What is that light in the sky? Perhaps one of humanity's more common questions, an answer may result from a few quick observations.  For example -- is it moving or blinking? If so, and if you live near a city, the answer is typically an airplane, since planes are so numerous and so few stars and satellites are bright enough to be seen over the din of artificial city lights. If not, and if you live far from a city, that bright light is likely a planet such as Venus or Mars -- the former of which is constrained to appear near the horizon just before dawn or after dusk.  Sometimes the low apparent motion of a distant airplane near the horizon makes it hard to tell from a bright planet, but even this can usually be discerned by the plane's motion over a few minutes. Still unsure?   The featured chart gives a sometimes-humorous but mostly-accurate assessment.  Dedicated sky enthusiasts will likely note -- and are encouraged to provide -- polite corrections.   Chart translations: Spanish, Italian, Polish, Tamil, Kannada, Latvian, and Norwegian\", 'hdurl': 'https://apod.nasa.gov/apod/image/1709/astronomy101_hk_750.jpg', 'media_type': 'image', 'service_version': 'v1', 'title': 'How to Identify that Light in the Sky', 'url': 'https://apod.nasa.gov/apod/image/1709/astronomy101_hk_960.jpg'}, {'date': '2006-02-08', 'explanation': \"Some moons wouldn't survive the collision.  Tethys, one of Saturn's larger moons at about 1000 kilometers in diameter, survived the collision, but sports today the expansive impact crater Odysseus.  Sometimes called the Great Basin, Odysseus occurs on the leading hemisphere of Tethys and shows its great age by the relative amount of smaller craters that occur inside its towering walls.  The density of Tethys is similar to water-ice.  The above digitally enhanced image was captured late last year by the robot Cassini spacecraft  in orbit around Saturn as it swooped past the giant ice ball.\", 'hdurl': 'https://apod.nasa.gov/apod/image/0602/tethysbasin_cassini_big.jpg', 'media_type': 'image', 'service_version': 'v1', 'title': 'The Great Basin on Tethys', 'url': 'https://apod.nasa.gov/apod/image/0602/tethysbasin_cassini.jpg'}, {'date': '2011-07-29', 'explanation': \"This sharp view from the Thermal Emission Imaging System camera on NASA's Mars Odyssey orbiter is centered on 154 kilometer (96 mile) wide Gale crater, near the martian equator. Within Gale, an impressive layered mountain rises about 5 kilometers (3 miles) above the crater floor. Layers and structures near its base are thought to have been formed in ancient times by water-carried sediments. In fact, a spot near the crater's northern side at the foot of the mountain has now been chosen as the target for the Mars Science Laboratory mission. Scheduled for launch late this year, the mission will land Mars' next visitor from planet Earth in August of 2012, lowering the car-sized Curiosity rover to the martian surface with a hovering, rocket-powered skycrane. Curiosity's science instruments are intended to discover if Gale once had favorable environmental conditions for supporting microbial life and for preserving clues about whether life ever existed on the Red Planet.\", 'hdurl': 'https://apod.nasa.gov/apod/image/1107/GaleCraterMars_themis.jpg', 'media_type': 'image', 'service_version': 'v1', 'title': 'Gale Crater', 'url': 'https://apod.nasa.gov/apod/image/1107/GaleCraterMars_themis900.jpg'}, {'date': '1996-03-02', 'explanation': 'Orbiting 1,075 miles above the Earth, a 250 foot wide, inflated, reinforced nylon \"wheel\" was conceived in the early 1950s to function as a navigational aid, meteorological station, military platform, and way station for space exploration by rocket pioneer Wernher von Braun. The wheel shaped station could be easily rotated creating artificial gravity so that the astronauts would not suffer the effects of prolonged weightlessness. Von Braun and his team favored building a permanently occupied Earth orbiting space station from which to stage a lunar exploration program. But in the 1960s NASA adopted the Apollo Program, which called for astronauts to transfer to a lunar landing vehicle after achieving lunar orbit, bypassing the construction of von Braun\\'s wheel.   Information: The Scale of the Universe Debate in April 1996', 'hdurl': 'https://apod.nasa.gov/apod/image/vonb_wheel.gif', 'media_type': 'image', 'service_version': 'v1', 'title': \"Von Braun's Wheel\", 'url': 'https://apod.nasa.gov/apod/image/vonb_wheel.gif'}, {'date': '2009-05-20', 'explanation': \"What is that astronaut doing?  Fixing the Hubble Space Telescope. During the fourth servicing mission to upgrade and fix Hubble, astronaut Michael Good can be seen attached to the shuttle's robotic arm, working in an open panel of Hubble. Far below, the terminator between day and night can be seen across planet Earth. Since Hubble was captured by the space shuttle Atlantis last Wednesday, five long space-walks have been used to fix and upgrade the aging telescope.  One of the more ambitious orbital missions yet taken, the toiling astronauts have upgraded the Wide Field Camera, fixed the Advanced Camera for Surveys, repaired the Space Telescope Imaging Spectrograph, and replaced COSTAR with the Cosmic Origins Spectrograph. Numerous other general repairs included replacing batteries, gyroscopic sensors, and insulation panels. Hubble will now undergo testing as Atlantis prepares to return to Earth later this week.\", 'hdurl': 'https://apod.nasa.gov/apod/image/0905/hubble_sts125_big.jpg', 'media_type': 'image', 'service_version': 'v1', 'title': 'Above Earth, Fixing Hubble', 'url': 'https://apod.nasa.gov/apod/image/0905/hubble_sts125.jpg'}, {'date': '1998-12-08', 'explanation': \"Is Leo leaking? Leo, the famous sky constellation visible on the left of the above all-sky photograph, appears to be the source of all the meteors seen in this year's Leonids Meteor Shower.  That Leonids point back to Leo is not a surprise - it is the reason this November meteor shower is called the Leonids.  Sand-sized debris expelled from Comet Tempel-Tuttle follows a well-defined orbit about our Sun, and the part of the orbit that approaches Earth is superposed in front of the constellation Leo.  Therefore, when Earth crosses this orbit, the radiant point of falling debris appears in Leo.  Over 150 meteors can be seen in the above four-hour exposure.  The Geminid Meteor Shower, which appears to eminate from the constellation of Gemini, peaks this coming weekend.\", 'hdurl': 'https://apod.nasa.gov/apod/image/9812/leonids100_am_big.jpg', 'media_type': 'image', 'service_version': 'v1', 'title': 'Leonids from Leo', 'url': 'https://apod.nasa.gov/apod/image/9812/leonids100_am.jpg'}]\n"
     ]
    }
   ],
   "source": [
    "import requests\n",
    "import pandas as pd\n",
    "api_key='FE73IN91CxbLlXHQGlEeigc25k0ViSkRjaZz0hQg'\n",
    "url=\"https://api.nasa.gov/planetary/apod?api_key=\"+api_key\n",
    "\n",
    "responses=requests.get(url,params={'count':10})\n",
    "data=responses.json()\n",
    "print(data)    "
   ]
  },
  {
   "cell_type": "code",
   "execution_count": 27,
   "metadata": {},
   "outputs": [
    {
     "name": "stdout",
     "output_type": "stream",
     "text": [
      "https://apod.nasa.gov/apod/image/2306/IssMoon_Yang_960.jpg\n"
     ]
    }
   ],
   "source": [
    "df={\"Date\":[],\"url\":[]}\n",
    "df[\"Date\"].append(data['date'])\n",
    "df['url'].append(data['url'])\n",
    "d=pd.DataFrame(df)\n",
    "for i in d['url']:\n",
    "    print(i)"
   ]
  },
  {
   "cell_type": "code",
   "execution_count": 31,
   "metadata": {},
   "outputs": [
    {
     "name": "stdout",
     "output_type": "stream",
     "text": [
      "{'Date': ['2023-06-12'], 'url': ['https://apod.nasa.gov/apod/image/2306/IssMoon_Yang_960.jpg']}\n",
      "https://apod.nasa.gov/apod/image/2306/IssMoon_Yang_960.jpg\n"
     ]
    }
   ],
   "source": [
    "df={\"Date\":[],\"url\":[]}\n",
    "df[\"Date\"].append(data['date'])\n",
    "df['url'].append(data['url'])\n",
    "print(df)\n",
    "print(df['url'][0])"
   ]
  },
  {
   "cell_type": "code",
   "execution_count": 8,
   "metadata": {},
   "outputs": [
    {
     "name": "stdout",
     "output_type": "stream",
     "text": [
      "https://apod.nasa.gov/apod/image/0301/lmcstarfield_hst.jpg\n",
      "https://apod.nasa.gov/apod/image/9705/ic443_asca.jpg\n",
      "https://apod.nasa.gov/apod/image/9702/halebopp1_oat.jpg\n",
      "https://apod.nasa.gov/apod/image/0111/dusttrk_stardust_c1.jpg\n",
      "https://apod.nasa.gov/apod/image/ngc4261_art_jg.gif\n",
      "https://apod.nasa.gov/apod/image/0403/venuslava_magellan.jpg\n",
      "https://apod.nasa.gov/apod/image/0606/2006SaMaM44_tezel_c50.jpg\n",
      "https://apod.nasa.gov/apod/image/1309/rollcloud_hanrahan_960.jpg\n",
      "https://apod.nasa.gov/apod/image/1203/m95sn2012awBlock900.jpg\n",
      "https://apod.nasa.gov/apod/image/0107/30Doradus_hst.jpg\n"
     ]
    }
   ],
   "source": [
    "df={\"Date\":[],\"url\":[]}\n",
    "for i in range(len(data)):\n",
    "    df[\"Date\"].append(data[i]['date'])\n",
    "    df['url'].append(data[i]['url'])\n",
    "d=pd.DataFrame(df)\n",
    "for i in d['url']:\n",
    "    print(i)"
   ]
  },
  {
   "cell_type": "code",
   "execution_count": 36,
   "metadata": {},
   "outputs": [
    {
     "name": "stdout",
     "output_type": "stream",
     "text": [
      "{'Date': ['2021-03-23', '2003-07-26', '2007-12-31', '1999-10-05', '2017-09-24', '2006-02-08', '2011-07-29', '1996-03-02', '2009-05-20', '1998-12-08'], 'url': ['https://apod.nasa.gov/apod/image/2103/MarsDuddo_Kivlehan_960.jpg', 'https://apod.nasa.gov/apod/image/0307/ngc7742_hst.jpg', 'https://apod.nasa.gov/apod/image/0712/holmespan_nanz.jpg', 'https://apod.nasa.gov/apod/image/9910/neptuneclouds_vg2.jpg', 'https://apod.nasa.gov/apod/image/1709/astronomy101_hk_960.jpg', 'https://apod.nasa.gov/apod/image/0602/tethysbasin_cassini.jpg', 'https://apod.nasa.gov/apod/image/1107/GaleCraterMars_themis900.jpg', 'https://apod.nasa.gov/apod/image/vonb_wheel.gif', 'https://apod.nasa.gov/apod/image/0905/hubble_sts125.jpg', 'https://apod.nasa.gov/apod/image/9812/leonids100_am.jpg']}\n",
      "https://apod.nasa.gov/apod/image/2103/MarsDuddo_Kivlehan_960.jpg\n",
      "https://apod.nasa.gov/apod/image/0307/ngc7742_hst.jpg\n",
      "https://apod.nasa.gov/apod/image/0712/holmespan_nanz.jpg\n",
      "https://apod.nasa.gov/apod/image/9910/neptuneclouds_vg2.jpg\n",
      "https://apod.nasa.gov/apod/image/1709/astronomy101_hk_960.jpg\n",
      "https://apod.nasa.gov/apod/image/0602/tethysbasin_cassini.jpg\n",
      "https://apod.nasa.gov/apod/image/1107/GaleCraterMars_themis900.jpg\n",
      "https://apod.nasa.gov/apod/image/vonb_wheel.gif\n",
      "https://apod.nasa.gov/apod/image/0905/hubble_sts125.jpg\n",
      "https://apod.nasa.gov/apod/image/9812/leonids100_am.jpg\n"
     ]
    }
   ],
   "source": [
    "df={\"Date\":[],\"url\":[]}\n",
    "for i in range(len(data)):\n",
    "    df[\"Date\"].append(data[i]['date'])\n",
    "    df['url'].append(data[i]['url'])\n",
    "print(df)\n",
    "for i in df['url']:\n",
    "    print(i)"
   ]
  },
  {
   "cell_type": "code",
   "execution_count": 3,
   "metadata": {},
   "outputs": [
    {
     "name": "stdout",
     "output_type": "stream",
     "text": [
      "HTTP/1.1 301 Moved Permanently\r\n",
      "Date: Mon, 12 Jun 2023 03:14:36 GMT\r\n",
      "Content-Type: text/plain; charset=utf-8\r\n",
      "Content-Length: 166\r\n",
      "Connection: close\r\n",
      "Location: https://api.nasa.gov/planetary/apod\r\n",
      "X-Frame-Options: DENY\r\n",
      "Strict-Transport-Security: max-age=31536000\r\n",
      "X-Content-Type-Options: nosniff\r\n",
      "X-XSS-Protection: 1; mode=block\r\n",
      "\r\n",
      "<html>\r\n",
      "<head><title>301 Moved Permanently</title></head>\r\n",
      "<body>\r\n",
      "<center><h1>301 Moved Permanently</h1></center>\r\n",
      "<hr><center>openresty</center>\r\n",
      "</body>\r\n",
      "</html>\r\n"
     ]
    }
   ],
   "source": [
    "import socket\n",
    "\n",
    "mysock = socket.socket()\n",
    "mysock.connect(('api.nasa.gov', 80))\n",
    "cmd = 'GET https://api.nasa.gov/planetary/apod HTTP/1.0\\r\\n\\r\\n'.encode()\n",
    "mysock.send(cmd)\n",
    "\n",
    "while True:\n",
    "    data = mysock.recv(512)\n",
    "    if len(data) < 1:\n",
    "        break\n",
    "    print(data.decode(),end='')\n",
    "\n",
    "mysock.close()"
   ]
  },
  {
   "cell_type": "code",
   "execution_count": 6,
   "metadata": {},
   "outputs": [
    {
     "ename": "JSONDecodeError",
     "evalue": "Expecting value: line 1 column 1 (char 0)",
     "output_type": "error",
     "traceback": [
      "\u001b[1;31m---------------------------------------------------------------------------\u001b[0m",
      "\u001b[1;31mJSONDecodeError\u001b[0m                           Traceback (most recent call last)",
      "\u001b[1;32m<ipython-input-6-f79c4ec3fb6f>\u001b[0m in \u001b[0;36m<module>\u001b[1;34m\u001b[0m\n\u001b[0;32m      3\u001b[0m \u001b[0murl\u001b[0m\u001b[1;33m=\u001b[0m\u001b[1;34m\"https://random-data-api.com/api/v2/\"\u001b[0m\u001b[1;33m\u001b[0m\u001b[1;33m\u001b[0m\u001b[0m\n\u001b[0;32m      4\u001b[0m \u001b[0mresponses\u001b[0m\u001b[1;33m=\u001b[0m\u001b[0mrequests\u001b[0m\u001b[1;33m.\u001b[0m\u001b[0mget\u001b[0m\u001b[1;33m(\u001b[0m\u001b[0murl\u001b[0m\u001b[1;33m)\u001b[0m\u001b[1;33m\u001b[0m\u001b[1;33m\u001b[0m\u001b[0m\n\u001b[1;32m----> 5\u001b[1;33m \u001b[0mdata\u001b[0m\u001b[1;33m=\u001b[0m\u001b[0mresponses\u001b[0m\u001b[1;33m.\u001b[0m\u001b[0mjson\u001b[0m\u001b[1;33m(\u001b[0m\u001b[1;33m)\u001b[0m\u001b[1;33m\u001b[0m\u001b[1;33m\u001b[0m\u001b[0m\n\u001b[0m\u001b[0;32m      6\u001b[0m \u001b[0mprint\u001b[0m\u001b[1;33m(\u001b[0m\u001b[0mdata\u001b[0m\u001b[1;33m)\u001b[0m\u001b[1;33m\u001b[0m\u001b[1;33m\u001b[0m\u001b[0m\n\u001b[0;32m      7\u001b[0m \u001b[1;33m\u001b[0m\u001b[0m\n",
      "\u001b[1;32mC:\\ProgramData\\Anaconda3\\lib\\site-packages\\requests\\models.py\u001b[0m in \u001b[0;36mjson\u001b[1;34m(self, **kwargs)\u001b[0m\n\u001b[0;32m    896\u001b[0m                     \u001b[1;31m# used.\u001b[0m\u001b[1;33m\u001b[0m\u001b[1;33m\u001b[0m\u001b[1;33m\u001b[0m\u001b[0m\n\u001b[0;32m    897\u001b[0m                     \u001b[1;32mpass\u001b[0m\u001b[1;33m\u001b[0m\u001b[1;33m\u001b[0m\u001b[0m\n\u001b[1;32m--> 898\u001b[1;33m         \u001b[1;32mreturn\u001b[0m \u001b[0mcomplexjson\u001b[0m\u001b[1;33m.\u001b[0m\u001b[0mloads\u001b[0m\u001b[1;33m(\u001b[0m\u001b[0mself\u001b[0m\u001b[1;33m.\u001b[0m\u001b[0mtext\u001b[0m\u001b[1;33m,\u001b[0m \u001b[1;33m**\u001b[0m\u001b[0mkwargs\u001b[0m\u001b[1;33m)\u001b[0m\u001b[1;33m\u001b[0m\u001b[1;33m\u001b[0m\u001b[0m\n\u001b[0m\u001b[0;32m    899\u001b[0m \u001b[1;33m\u001b[0m\u001b[0m\n\u001b[0;32m    900\u001b[0m     \u001b[1;33m@\u001b[0m\u001b[0mproperty\u001b[0m\u001b[1;33m\u001b[0m\u001b[1;33m\u001b[0m\u001b[0m\n",
      "\u001b[1;32mC:\\ProgramData\\Anaconda3\\lib\\json\\__init__.py\u001b[0m in \u001b[0;36mloads\u001b[1;34m(s, cls, object_hook, parse_float, parse_int, parse_constant, object_pairs_hook, **kw)\u001b[0m\n\u001b[0;32m    355\u001b[0m             \u001b[0mparse_int\u001b[0m \u001b[1;32mis\u001b[0m \u001b[1;32mNone\u001b[0m \u001b[1;32mand\u001b[0m \u001b[0mparse_float\u001b[0m \u001b[1;32mis\u001b[0m \u001b[1;32mNone\u001b[0m \u001b[1;32mand\u001b[0m\u001b[1;33m\u001b[0m\u001b[1;33m\u001b[0m\u001b[0m\n\u001b[0;32m    356\u001b[0m             parse_constant is None and object_pairs_hook is None and not kw):\n\u001b[1;32m--> 357\u001b[1;33m         \u001b[1;32mreturn\u001b[0m \u001b[0m_default_decoder\u001b[0m\u001b[1;33m.\u001b[0m\u001b[0mdecode\u001b[0m\u001b[1;33m(\u001b[0m\u001b[0ms\u001b[0m\u001b[1;33m)\u001b[0m\u001b[1;33m\u001b[0m\u001b[1;33m\u001b[0m\u001b[0m\n\u001b[0m\u001b[0;32m    358\u001b[0m     \u001b[1;32mif\u001b[0m \u001b[0mcls\u001b[0m \u001b[1;32mis\u001b[0m \u001b[1;32mNone\u001b[0m\u001b[1;33m:\u001b[0m\u001b[1;33m\u001b[0m\u001b[1;33m\u001b[0m\u001b[0m\n\u001b[0;32m    359\u001b[0m         \u001b[0mcls\u001b[0m \u001b[1;33m=\u001b[0m \u001b[0mJSONDecoder\u001b[0m\u001b[1;33m\u001b[0m\u001b[1;33m\u001b[0m\u001b[0m\n",
      "\u001b[1;32mC:\\ProgramData\\Anaconda3\\lib\\json\\decoder.py\u001b[0m in \u001b[0;36mdecode\u001b[1;34m(self, s, _w)\u001b[0m\n\u001b[0;32m    335\u001b[0m \u001b[1;33m\u001b[0m\u001b[0m\n\u001b[0;32m    336\u001b[0m         \"\"\"\n\u001b[1;32m--> 337\u001b[1;33m         \u001b[0mobj\u001b[0m\u001b[1;33m,\u001b[0m \u001b[0mend\u001b[0m \u001b[1;33m=\u001b[0m \u001b[0mself\u001b[0m\u001b[1;33m.\u001b[0m\u001b[0mraw_decode\u001b[0m\u001b[1;33m(\u001b[0m\u001b[0ms\u001b[0m\u001b[1;33m,\u001b[0m \u001b[0midx\u001b[0m\u001b[1;33m=\u001b[0m\u001b[0m_w\u001b[0m\u001b[1;33m(\u001b[0m\u001b[0ms\u001b[0m\u001b[1;33m,\u001b[0m \u001b[1;36m0\u001b[0m\u001b[1;33m)\u001b[0m\u001b[1;33m.\u001b[0m\u001b[0mend\u001b[0m\u001b[1;33m(\u001b[0m\u001b[1;33m)\u001b[0m\u001b[1;33m)\u001b[0m\u001b[1;33m\u001b[0m\u001b[1;33m\u001b[0m\u001b[0m\n\u001b[0m\u001b[0;32m    338\u001b[0m         \u001b[0mend\u001b[0m \u001b[1;33m=\u001b[0m \u001b[0m_w\u001b[0m\u001b[1;33m(\u001b[0m\u001b[0ms\u001b[0m\u001b[1;33m,\u001b[0m \u001b[0mend\u001b[0m\u001b[1;33m)\u001b[0m\u001b[1;33m.\u001b[0m\u001b[0mend\u001b[0m\u001b[1;33m(\u001b[0m\u001b[1;33m)\u001b[0m\u001b[1;33m\u001b[0m\u001b[1;33m\u001b[0m\u001b[0m\n\u001b[0;32m    339\u001b[0m         \u001b[1;32mif\u001b[0m \u001b[0mend\u001b[0m \u001b[1;33m!=\u001b[0m \u001b[0mlen\u001b[0m\u001b[1;33m(\u001b[0m\u001b[0ms\u001b[0m\u001b[1;33m)\u001b[0m\u001b[1;33m:\u001b[0m\u001b[1;33m\u001b[0m\u001b[1;33m\u001b[0m\u001b[0m\n",
      "\u001b[1;32mC:\\ProgramData\\Anaconda3\\lib\\json\\decoder.py\u001b[0m in \u001b[0;36mraw_decode\u001b[1;34m(self, s, idx)\u001b[0m\n\u001b[0;32m    353\u001b[0m             \u001b[0mobj\u001b[0m\u001b[1;33m,\u001b[0m \u001b[0mend\u001b[0m \u001b[1;33m=\u001b[0m \u001b[0mself\u001b[0m\u001b[1;33m.\u001b[0m\u001b[0mscan_once\u001b[0m\u001b[1;33m(\u001b[0m\u001b[0ms\u001b[0m\u001b[1;33m,\u001b[0m \u001b[0midx\u001b[0m\u001b[1;33m)\u001b[0m\u001b[1;33m\u001b[0m\u001b[1;33m\u001b[0m\u001b[0m\n\u001b[0;32m    354\u001b[0m         \u001b[1;32mexcept\u001b[0m \u001b[0mStopIteration\u001b[0m \u001b[1;32mas\u001b[0m \u001b[0merr\u001b[0m\u001b[1;33m:\u001b[0m\u001b[1;33m\u001b[0m\u001b[1;33m\u001b[0m\u001b[0m\n\u001b[1;32m--> 355\u001b[1;33m             \u001b[1;32mraise\u001b[0m \u001b[0mJSONDecodeError\u001b[0m\u001b[1;33m(\u001b[0m\u001b[1;34m\"Expecting value\"\u001b[0m\u001b[1;33m,\u001b[0m \u001b[0ms\u001b[0m\u001b[1;33m,\u001b[0m \u001b[0merr\u001b[0m\u001b[1;33m.\u001b[0m\u001b[0mvalue\u001b[0m\u001b[1;33m)\u001b[0m \u001b[1;32mfrom\u001b[0m \u001b[1;32mNone\u001b[0m\u001b[1;33m\u001b[0m\u001b[1;33m\u001b[0m\u001b[0m\n\u001b[0m\u001b[0;32m    356\u001b[0m         \u001b[1;32mreturn\u001b[0m \u001b[0mobj\u001b[0m\u001b[1;33m,\u001b[0m \u001b[0mend\u001b[0m\u001b[1;33m\u001b[0m\u001b[1;33m\u001b[0m\u001b[0m\n",
      "\u001b[1;31mJSONDecodeError\u001b[0m: Expecting value: line 1 column 1 (char 0)"
     ]
    }
   ],
   "source": [
    "import requests,json\n",
    "import pandas as pd\n",
    "url=\"https://random-data-api.com/api/v2/\"\n",
    "responses=requests.get(url,responsety)\n",
    "data=responses.json()\n",
    "print(data)"
   ]
  }
 ],
 "metadata": {
  "kernelspec": {
   "display_name": "Python 3",
   "language": "python",
   "name": "python3"
  },
  "language_info": {
   "codemirror_mode": {
    "name": "ipython",
    "version": 3
   },
   "file_extension": ".py",
   "mimetype": "text/x-python",
   "name": "python",
   "nbconvert_exporter": "python",
   "pygments_lexer": "ipython3",
   "version": "3.8.5"
  }
 },
 "nbformat": 4,
 "nbformat_minor": 4
}
